{
 "cells": [
  {
   "cell_type": "code",
   "execution_count": null,
   "metadata": {},
   "outputs": [],
   "source": [
    "import pandas as pd\n",
    "import requests\n",
    "import time\n",
    "from io import StringIO\n",
    "\n",
    "baseurl = \"https://star.pst.qub.ac.uk/sne/atlasforced\""
   ]
  },
  {
   "cell_type": "code",
   "execution_count": null,
   "metadata": {},
   "outputs": [],
   "source": [
    "data = {\n",
    "    'username': 'USERNAME',\n",
    "    'password': 'PASSWORD',\n",
    "}\n",
    "\n",
    "resp = requests.post(url=f\"{baseurl}/api-token-auth/\", data=data)\n",
    "\n",
    "if resp.status_code == 200:\n",
    "    token = resp.json()['token']\n",
    "    print(f'Your token is {token}')\n",
    "else:\n",
    "    print(f'ERROR {resp.status_code}')\n",
    "    print(resp.json())\n"
   ]
  },
  {
   "cell_type": "code",
   "execution_count": null,
   "metadata": {},
   "outputs": [],
   "source": [
    "with requests.Session() as s:\n",
    "    s.auth = ('luke', 'TQ3yHXZNX9ULWFsL')\n",
    "    data = {'ra': 44, 'dec': 22}\n",
    "    r = s.post(f\"{baseurl}/queue?format=json\", headers=headers, data=data)\n",
    "    rjson = r.json()\n",
    "    taskurl  = rjson['url']"
   ]
  },
  {
   "cell_type": "code",
   "execution_count": null,
   "metadata": {},
   "outputs": [],
   "source": [
    "headers = {'Authorization': f'Token {token}'}\n",
    "with requests.Session() as s:\n",
    "    result_url = None\n",
    "    while not result_url:\n",
    "        r = s.get(taskurl, headers=headers).json()\n",
    "        if r['finished']:\n",
    "            result_url = r['result_url']\n",
    "            print(f\"Task complete with results available at {result_url}\")\n",
    "        else:\n",
    "            print(\"Not finished yet. Checking again in a few seconds...\")\n",
    "            time.sleep(5)\n",
    "\n",
    "    textdata = s.get(result_url, headers=headers).text"
   ]
  },
  {
   "cell_type": "code",
   "execution_count": null,
   "metadata": {},
   "outputs": [],
   "source": [
    "dfresult = pd.read_csv(StringIO(textdata.replace(\"###\", \"\")), delim_whitespace=True)\n",
    "print(dfresult)"
   ]
  }
 ],
 "metadata": {
  "kernelspec": {
   "display_name": "Python 3",
   "language": "python",
   "name": "python3"
  },
  "language_info": {
   "codemirror_mode": {
    "name": "ipython",
    "version": 3
   },
   "file_extension": ".py",
   "mimetype": "text/x-python",
   "name": "python",
   "nbconvert_exporter": "python",
   "pygments_lexer": "ipython3",
   "version": "3.9.0"
  }
 },
 "nbformat": 4,
 "nbformat_minor": 4
}
